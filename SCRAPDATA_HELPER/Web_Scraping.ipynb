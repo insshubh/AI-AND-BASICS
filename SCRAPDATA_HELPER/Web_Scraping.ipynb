{
  "nbformat": 4,
  "nbformat_minor": 0,
  "metadata": {
    "colab": {
      "provenance": [],
      "authorship_tag": "ABX9TyMkjvUf13ldP1hOLYjDfkmS",
      "include_colab_link": true
    },
    "kernelspec": {
      "name": "python3",
      "display_name": "Python 3"
    },
    "language_info": {
      "name": "python"
    }
  },
  "cells": [
    {
      "cell_type": "markdown",
      "metadata": {
        "id": "view-in-github",
        "colab_type": "text"
      },
      "source": [
        "<a href=\"https://colab.research.google.com/github/insshubh/PYTHON-PROJECTS/blob/main/SCRAPDATA_HELPER/Web_Scraping.ipynb\" target=\"_parent\"><img src=\"https://colab.research.google.com/assets/colab-badge.svg\" alt=\"Open In Colab\"/></a>"
      ]
    },
    {
      "cell_type": "markdown",
      "source": [
        "#        ***Web Scraping And Data Saving***\n",
        "\n",
        "\n",
        "\n",
        "\n"
      ],
      "metadata": {
        "id": "jm4sbAzqd3ZO"
      }
    },
    {
      "cell_type": "markdown",
      "source": [
        "--> Use BeautifulSoup for Web Scraping and saved it into CSV file.\n",
        "\n",
        "--> For Advancment I merge this CSV file to simple code  and made a **RULE BASED **Bot which respond all details to querried Book .\n",
        "\n",
        "\n",
        "\n",
        "\n",
        "\n"
      ],
      "metadata": {
        "id": "E7Brxehpz4L9"
      }
    },
    {
      "cell_type": "code",
      "source": [
        "import requests\n",
        "from bs4 import BeautifulSoup\n",
        "import pandas as pd"
      ],
      "metadata": {
        "id": "ZM7vrLKfJBFo"
      },
      "execution_count": null,
      "outputs": []
    },
    {
      "cell_type": "code",
      "source": [
        "#Use Proxy For get request over different IP..\n",
        "\"\"\"proxy_servers = {\n",
        "   'http': 'http://proxy.sample.com:8080',\n",
        "   'https': 'http://secureproxy.sample.com:8080',\n",
        "}\n",
        "\n",
        "response = requests.get('sample.abc', proxies=proxy_servers)\"\"\"\n",
        "\n"
      ],
      "metadata": {
        "id": "xjxkviHoePcn",
        "colab": {
          "base_uri": "https://localhost:8080/",
          "height": 53
        },
        "outputId": "0494e3f2-de8e-40c1-9f0e-0e1710586fca"
      },
      "execution_count": null,
      "outputs": [
        {
          "output_type": "execute_result",
          "data": {
            "text/plain": [
              "\"proxy_servers = {\\n   'http': 'http://proxy.sample.com:8080',\\n   'https': 'http://secureproxy.sample.com:8080',\\n}\\n\\nresponse = requests.get('sample.abc', proxies=proxy_servers)\""
            ],
            "application/vnd.google.colaboratory.intrinsic+json": {
              "type": "string"
            }
          },
          "metadata": {},
          "execution_count": 3
        }
      ]
    },
    {
      "cell_type": "code",
      "source": [
        "dic =[] # list to store the extracted key & values from the webpage\n",
        "for i in range(1,51):\n",
        "   url = f\"https://books.toscrape.com/catalogue/page-{i}.html\"\n",
        "   response  = requests.get(url)\n",
        "   res = response.content\n",
        "   soup = BeautifulSoup(res, 'html.parser')\n",
        "   ol = soup.find('ol')\n",
        "   articles = ol.find_all('article')\n",
        "   for article in articles:\n",
        "       image = article.find('img')\n",
        "       title = image.attrs['alt']\n",
        "       rating = article.find('p')\n",
        "       r = rating.attrs['class'][1]\n",
        "       price = article.find('div',class_='product_price')\n",
        "       rate = price.find('p').text\n",
        "       availablity = article.find('p',class_='instock availability').text.strip()\n",
        "       dic.append([title,rate,r,availablity])\n",
        "\n",
        "# Creating a dataframe having Labels as mentions.\n",
        "df = pd.DataFrame(dic,columns=['Name of Book','Price','Rating','Stock'])\n",
        "df.to_csv('books.csv')\n",
        "\n",
        "\n"
      ],
      "metadata": {
        "id": "evNtZFl_eyIZ"
      },
      "execution_count": null,
      "outputs": []
    },
    {
      "cell_type": "markdown",
      "source": [
        "Now ChatBot which list all attribute related to title of **BOOK** ***bold text***"
      ],
      "metadata": {
        "id": "9bXonWNLOJb8"
      }
    },
    {
      "cell_type": "code",
      "source": [
        "# Load your CSV data\n",
        "df = pd.read_csv('/content/books.csv')\n",
        "df.drop(['Unnamed: 0'], axis=1,inplace=True)\n",
        "\n",
        "# Function to retrieve book details by title\n",
        "def get_book_details(title):\n",
        "    book_details = df[df['Name of Book'].str.lower() == title.lower()]\n",
        "    return book_details\n",
        "\n",
        "# Simple chatbot loop\n",
        "while True:\n",
        "    user_input = input(\"User: \")\n",
        "    if user_input.lower() == 'exit':\n",
        "        break\n",
        "    else:\n",
        "        book_title = user_input.strip()  # Remove leading/trailing spaces\n",
        "        book_info = get_book_details(book_title)\n",
        "        if not book_info.empty:\n",
        "            print(\"Bot:\")\n",
        "            print(book_info)\n",
        "        else:\n",
        "            print(\"Bot: Book not found.\")\n"
      ],
      "metadata": {
        "colab": {
          "base_uri": "https://localhost:8080/"
        },
        "id": "lrmItQwj4xeu",
        "outputId": "d220f4c0-f165-49c4-f34b-4ce2d0f41bbf"
      },
      "execution_count": null,
      "outputs": [
        {
          "name": "stdout",
          "output_type": "stream",
          "text": [
            "User: cell\n",
            "Bot:\n",
            "    Name of Book   Price Rating     Stock\n",
            "326         Cell  £20.29   Four  In stock\n",
            "User: 22/11/63\n",
            "Bot: Book not found.\n",
            "User: 11/22/63\n",
            "Bot:\n",
            "    Name of Book   Price Rating     Stock\n",
            "417     11/22/63  £48.48  Three  In stock\n",
            "User: exit\n"
          ]
        }
      ]
    }
  ]
}